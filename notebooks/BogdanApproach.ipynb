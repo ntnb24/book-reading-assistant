{
 "cells": [
  {
   "cell_type": "code",
   "execution_count": null,
   "id": "initial_id",
   "metadata": {
    "collapsed": true
   },
   "outputs": [],
   "source": []
  },
  {
   "cell_type": "code",
   "execution_count": 1,
   "outputs": [],
   "source": [
    "from haystack.document_stores import InMemoryDocumentStore\n",
    "from haystack.utils import build_pipeline, add_example_data, print_answers\n",
    "from haystack import Pipeline\n",
    "from haystack.document_stores import WeaviateDocumentStore\n",
    "from haystack.nodes import BM25Retriever\n",
    "from haystack.nodes import EmbeddingRetriever, FARMReader"
   ],
   "metadata": {
    "collapsed": false,
    "ExecuteTime": {
     "end_time": "2023-11-22T15:49:47.616612300Z",
     "start_time": "2023-11-22T15:49:32.955590100Z"
    }
   },
   "id": "1e26e7cc9c2f32a8"
  },
  {
   "cell_type": "code",
   "execution_count": 2,
   "outputs": [
    {
     "ename": "FileNotFoundError",
     "evalue": "[WinError 3] The system cannot find the path specified: 'data'",
     "output_type": "error",
     "traceback": [
      "\u001B[1;31m---------------------------------------------------------------------------\u001B[0m",
      "\u001B[1;31mFileNotFoundError\u001B[0m                         Traceback (most recent call last)",
      "Cell \u001B[1;32mIn[2], line 5\u001B[0m\n\u001B[0;32m      2\u001B[0m document_store \u001B[38;5;241m=\u001B[39m InMemoryDocumentStore(use_bm25\u001B[38;5;241m=\u001B[39m\u001B[38;5;28;01mTrue\u001B[39;00m)\n\u001B[0;32m      4\u001B[0m \u001B[38;5;66;03m# Add example data (replace with your own data)\u001B[39;00m\n\u001B[1;32m----> 5\u001B[0m \u001B[43madd_example_data\u001B[49m\u001B[43m(\u001B[49m\u001B[43mdocument_store\u001B[49m\u001B[43m,\u001B[49m\u001B[43m \u001B[49m\u001B[38;5;124;43m\"\u001B[39;49m\u001B[38;5;124;43mdata\u001B[39;49m\u001B[38;5;124;43m\"\u001B[39;49m\u001B[43m)\u001B[49m\n\u001B[0;32m      7\u001B[0m retriever \u001B[38;5;241m=\u001B[39m BM25Retriever(document_store)\n\u001B[0;32m      8\u001B[0m reader \u001B[38;5;241m=\u001B[39m reader \u001B[38;5;241m=\u001B[39m FARMReader(model_name_or_path\u001B[38;5;241m=\u001B[39m\u001B[38;5;124m\"\u001B[39m\u001B[38;5;124mdeepset/roberta-base-squad2\u001B[39m\u001B[38;5;124m\"\u001B[39m)\n",
      "File \u001B[1;32m~\\.conda\\envs\\book-reading-assistant\\Lib\\site-packages\\haystack\\utils\\getting_started.py:75\u001B[0m, in \u001B[0;36madd_example_data\u001B[1;34m(document_store, dir)\u001B[0m\n\u001B[0;32m     69\u001B[0m     docs \u001B[38;5;241m=\u001B[39m [converter\u001B[38;5;241m.\u001B[39mconvert(file_path\u001B[38;5;241m=\u001B[39mfile, meta\u001B[38;5;241m=\u001B[39m\u001B[38;5;28;01mNone\u001B[39;00m)[\u001B[38;5;241m0\u001B[39m] \u001B[38;5;28;01mfor\u001B[39;00m file \u001B[38;5;129;01min\u001B[39;00m files_to_index]\n\u001B[0;32m     70\u001B[0m \u001B[38;5;28;01melse\u001B[39;00m:\n\u001B[0;32m     71\u001B[0m     \u001B[38;5;66;03m# Here you can add a local folder with your files(.txt, .pdf, .docx).\u001B[39;00m\n\u001B[0;32m     72\u001B[0m     \u001B[38;5;66;03m# You might need to install additional packages with \"pip install farm-haystack[ocr,preprocessing,file-conversion,pdf]\".\u001B[39;00m\n\u001B[0;32m     73\u001B[0m     \u001B[38;5;66;03m# For more details, see: https://haystack.deepset.ai/tutorials/08_preprocessing.\u001B[39;00m\n\u001B[0;32m     74\u001B[0m     \u001B[38;5;66;03m# Be aware that some of your data will be sent to external APIs if you use this functionality!\u001B[39;00m\n\u001B[1;32m---> 75\u001B[0m     files_to_index \u001B[38;5;241m=\u001B[39m [\u001B[38;5;28mdir\u001B[39m \u001B[38;5;241m+\u001B[39m \u001B[38;5;124m\"\u001B[39m\u001B[38;5;124m/\u001B[39m\u001B[38;5;124m\"\u001B[39m \u001B[38;5;241m+\u001B[39m f \u001B[38;5;28;01mfor\u001B[39;00m f \u001B[38;5;129;01min\u001B[39;00m \u001B[43mos\u001B[49m\u001B[38;5;241;43m.\u001B[39;49m\u001B[43mlistdir\u001B[49m\u001B[43m(\u001B[49m\u001B[38;5;28;43mdir\u001B[39;49m\u001B[43m)\u001B[49m]\n\u001B[0;32m     76\u001B[0m     logger\u001B[38;5;241m.\u001B[39minfo(\u001B[38;5;124m\"\u001B[39m\u001B[38;5;124mAdding \u001B[39m\u001B[38;5;132;01m%s\u001B[39;00m\u001B[38;5;124m number of files from local disk at \u001B[39m\u001B[38;5;132;01m%s\u001B[39;00m\u001B[38;5;124m.\u001B[39m\u001B[38;5;124m\"\u001B[39m, \u001B[38;5;28mlen\u001B[39m(files_to_index), \u001B[38;5;28mdir\u001B[39m)\n\u001B[0;32m     77\u001B[0m     docs \u001B[38;5;241m=\u001B[39m convert_files_to_docs(dir_path\u001B[38;5;241m=\u001B[39m\u001B[38;5;28mdir\u001B[39m)\n",
      "\u001B[1;31mFileNotFoundError\u001B[0m: [WinError 3] The system cannot find the path specified: 'data'"
     ]
    }
   ],
   "source": [
    "# Initialize an in-memory document store\n",
    "document_store = InMemoryDocumentStore(use_bm25=True)\n",
    "\n",
    "# Add example data (replace with your own data)\n",
    "add_example_data(document_store, \"data\")\n",
    "\n",
    "retriever = BM25Retriever(document_store)\n",
    "reader = reader = FARMReader(model_name_or_path=\"deepset/roberta-base-squad2\")"
   ],
   "metadata": {
    "collapsed": false,
    "ExecuteTime": {
     "end_time": "2023-11-22T15:49:47.882474Z",
     "start_time": "2023-11-22T15:49:47.617612100Z"
    }
   },
   "id": "88cf6eeb7bea78c2"
  },
  {
   "cell_type": "code",
   "execution_count": null,
   "outputs": [],
   "source": [
    "reader = FARMReader(model_name_or_path=\"deepset/roberta-base-squad2\", use_gpu=False)"
   ],
   "metadata": {
    "collapsed": false,
    "ExecuteTime": {
     "end_time": "2023-11-22T15:49:47.887474600Z",
     "start_time": "2023-11-22T15:49:47.884475300Z"
    }
   },
   "id": "5cf715abd44b9eb5"
  },
  {
   "cell_type": "code",
   "execution_count": null,
   "outputs": [],
   "source": [
    "# Create a pipeline\n",
    "pipeline = Pipeline()\n",
    "pipeline.add_node(component=retriever, name=\"EmbeddingRetriever\", inputs=[\"Query\"])\n",
    "pipeline.add_node(component=reader, name=\"Reader\", inputs=[\"EmbeddingRetriever\"])"
   ],
   "metadata": {
    "collapsed": false,
    "ExecuteTime": {
     "start_time": "2023-11-22T15:49:47.885474100Z"
    }
   },
   "id": "42779b755db0c37c"
  },
  {
   "cell_type": "code",
   "execution_count": null,
   "outputs": [],
   "source": [
    "# Ask a question\n",
    "question = \"Cine e personajul principal?\"\n",
    "\n",
    "# Execute the pipeline to get answers\n",
    "results = pipeline.run(query=question)\n",
    "\n",
    "print(results)"
   ],
   "metadata": {
    "collapsed": false,
    "ExecuteTime": {
     "start_time": "2023-11-22T15:49:47.886474200Z"
    }
   },
   "id": "eccf452ba66c5116"
  },
  {
   "cell_type": "code",
   "execution_count": null,
   "outputs": [],
   "source": [
    "question = \"Cine e Otilia?\"\n",
    "res2 = pipeline.run(query=question)\n",
    "print(res2)"
   ],
   "metadata": {
    "collapsed": false,
    "ExecuteTime": {
     "start_time": "2023-11-22T15:49:47.888474700Z"
    }
   },
   "id": "fa8c5ee7013174d1"
  }
 ],
 "metadata": {
  "kernelspec": {
   "display_name": "Python 3",
   "language": "python",
   "name": "python3"
  },
  "language_info": {
   "codemirror_mode": {
    "name": "ipython",
    "version": 2
   },
   "file_extension": ".py",
   "mimetype": "text/x-python",
   "name": "python",
   "nbconvert_exporter": "python",
   "pygments_lexer": "ipython2",
   "version": "2.7.6"
  }
 },
 "nbformat": 4,
 "nbformat_minor": 5
}
